{
 "cells": [
  {
   "cell_type": "code",
   "execution_count": 7,
   "metadata": {},
   "outputs": [
    {
     "data": {
      "text/plain": [
       "<matplotlib.axes._subplots.AxesSubplot at 0x7fc47ff1bdc0>"
      ]
     },
     "execution_count": 7,
     "metadata": {},
     "output_type": "execute_result"
    },
    {
     "data": {
      "image/png": "[encoded data removed]",
      "text/plain": [
       "<Figure size 432x288 with 1 Axes>"
      ]
     },
     "metadata": {
      "needs_background": "light"
     },
     "output_type": "display_data"
    }
   ],
   "source": [
    "import pandas as pd\n",
    "import numpy as np\n",
    "from math import cos,sin,pi\n",
    "import matplotlib as mpl\n",
    "import matplotlib.pyplot as plt\n",
    "\n",
    "data = pd.read_csv(\"facilities.csv\")\n",
    "data.plot(kind='scatter', x='PREF_LONGITUDE', y='PREF_LATITUDE')\n"
   ]
  },
  {
   "cell_type": "code",
   "execution_count": 8,
   "metadata": {},
   "outputs": [
    {
     "data": {
      "text/html": [
       "<div>\n",
       "<style scoped>\n",
       "    .dataframe tbody tr th:only-of-type {\n",
       "        vertical-align: middle;\n",
       "    }\n",
       "\n",
       "    .dataframe tbody tr th {\n",
       "        vertical-align: top;\n",
       "    }\n",
       "\n",
       "    .dataframe thead th {\n",
       "        text-align: right;\n",
       "    }\n",
       "</style>\n",
       "<table border=\"1\" class=\"dataframe\">\n",
       "  <thead>\n",
       "    <tr style=\"text-align: right;\">\n",
       "      <th></th>\n",
       "      <th>School</th>\n",
       "      <th>Total Students</th>\n",
       "      <th>Gifted</th>\n",
       "      <th>IEP</th>\n",
       "      <th>Total Feeder Status</th>\n",
       "      <th>Grade Level</th>\n",
       "    </tr>\n",
       "  </thead>\n",
       "  <tbody>\n",
       "    <tr>\n",
       "      <th>0</th>\n",
       "      <td>PITTSBURGH PIONEER</td>\n",
       "      <td>17</td>\n",
       "      <td>0</td>\n",
       "      <td>0</td>\n",
       "      <td>17</td>\n",
       "      <td>K_5</td>\n",
       "    </tr>\n",
       "    <tr>\n",
       "      <th>1</th>\n",
       "      <td>PITTSBURGH CONROY</td>\n",
       "      <td>43</td>\n",
       "      <td>0</td>\n",
       "      <td>43</td>\n",
       "      <td>43</td>\n",
       "      <td>K_5</td>\n",
       "    </tr>\n",
       "    <tr>\n",
       "      <th>2</th>\n",
       "      <td>PITTSBURGH SPRING HILL K-5</td>\n",
       "      <td>125</td>\n",
       "      <td>0</td>\n",
       "      <td>21</td>\n",
       "      <td>125</td>\n",
       "      <td>K_5</td>\n",
       "    </tr>\n",
       "    <tr>\n",
       "      <th>3</th>\n",
       "      <td>PITTSBURGH MANCHESTER PreK-8</td>\n",
       "      <td>140</td>\n",
       "      <td>0</td>\n",
       "      <td>0</td>\n",
       "      <td>140</td>\n",
       "      <td>K_5</td>\n",
       "    </tr>\n",
       "    <tr>\n",
       "      <th>4</th>\n",
       "      <td>PITTSBURGH MIFFLIN PreK-8</td>\n",
       "      <td>160</td>\n",
       "      <td>0</td>\n",
       "      <td>0</td>\n",
       "      <td>160</td>\n",
       "      <td>K_5</td>\n",
       "    </tr>\n",
       "    <tr>\n",
       "      <th>...</th>\n",
       "      <td>...</td>\n",
       "      <td>...</td>\n",
       "      <td>...</td>\n",
       "      <td>...</td>\n",
       "      <td>...</td>\n",
       "      <td>...</td>\n",
       "    </tr>\n",
       "    <tr>\n",
       "      <th>77</th>\n",
       "      <td>PITTSBURGH OBAMA IB 6-12</td>\n",
       "      <td>513</td>\n",
       "      <td>83</td>\n",
       "      <td>53</td>\n",
       "      <td>513</td>\n",
       "      <td>9_12</td>\n",
       "    </tr>\n",
       "    <tr>\n",
       "      <th>78</th>\n",
       "      <td>PITTSBURGH CAPA 6-12</td>\n",
       "      <td>523</td>\n",
       "      <td>181</td>\n",
       "      <td>28</td>\n",
       "      <td>523</td>\n",
       "      <td>9_12</td>\n",
       "    </tr>\n",
       "    <tr>\n",
       "      <th>79</th>\n",
       "      <td>PITTSBURGH CARRICK HIGH SCHOOL</td>\n",
       "      <td>685</td>\n",
       "      <td>22</td>\n",
       "      <td>223</td>\n",
       "      <td>685</td>\n",
       "      <td>9_12</td>\n",
       "    </tr>\n",
       "    <tr>\n",
       "      <th>80</th>\n",
       "      <td>PITTSBURGH BRASHEAR HIGH SCHOOL</td>\n",
       "      <td>1213</td>\n",
       "      <td>31</td>\n",
       "      <td>257</td>\n",
       "      <td>1213</td>\n",
       "      <td>9_12</td>\n",
       "    </tr>\n",
       "    <tr>\n",
       "      <th>81</th>\n",
       "      <td>PITTSBURGH ALLDERDICE HIGH SCHOOL</td>\n",
       "      <td>1493</td>\n",
       "      <td>251</td>\n",
       "      <td>181</td>\n",
       "      <td>1493</td>\n",
       "      <td>9_12</td>\n",
       "    </tr>\n",
       "  </tbody>\n",
       "</table>\n",
       "<p>82 rows × 6 columns</p>\n",
       "</div>"
      ],
      "text/plain": [
       "                               School  Total Students  Gifted  IEP  \\\n",
       "0                  PITTSBURGH PIONEER              17       0    0   \n",
       "1                   PITTSBURGH CONROY              43       0   43   \n",
       "2          PITTSBURGH SPRING HILL K-5             125       0   21   \n",
       "3        PITTSBURGH MANCHESTER PreK-8             140       0    0   \n",
       "4           PITTSBURGH MIFFLIN PreK-8             160       0    0   \n",
       "..                                ...             ...     ...  ...   \n",
       "77           PITTSBURGH OBAMA IB 6-12             513      83   53   \n",
       "78               PITTSBURGH CAPA 6-12             523     181   28   \n",
       "79     PITTSBURGH CARRICK HIGH SCHOOL             685      22  223   \n",
       "80    PITTSBURGH BRASHEAR HIGH SCHOOL            1213      31  257   \n",
       "81  PITTSBURGH ALLDERDICE HIGH SCHOOL            1493     251  181   \n",
       "\n",
       "    Total Feeder Status Grade Level  \n",
       "0                    17         K_5  \n",
       "1                    43         K_5  \n",
       "2                   125         K_5  \n",
       "3                   140         K_5  \n",
       "4                   160         K_5  \n",
       "..                  ...         ...  \n",
       "77                  513        9_12  \n",
       "78                  523        9_12  \n",
       "79                  685        9_12  \n",
       "80                 1213        9_12  \n",
       "81                 1493        9_12  \n",
       "\n",
       "[82 rows x 6 columns]"
      ]
     },
     "execution_count": 8,
     "metadata": {},
     "output_type": "execute_result"
    }
   ],
   "source": [
    "import sys\n",
    "import pandas as pd\n",
    "import math\n",
    "import numpy as np\n",
    "%matplotlib inline\n",
    "import matplotlib.pyplot as plt\n",
    "#now we are instantiating our public_school_data csv file so that we can view the data\n",
    "public_school_data = pd.read_csv(\"public_school_data.csv\")\n",
    "public_school_data.groupby('School').head()"
   ]
  },
  {
   "cell_type": "code",
   "execution_count": 9,
   "metadata": {},
   "outputs": [
    {
     "data": {
      "text/html": [
       "<div>\n",
       "<style scoped>\n",
       "    .dataframe tbody tr th:only-of-type {\n",
       "        vertical-align: middle;\n",
       "    }\n",
       "\n",
       "    .dataframe tbody tr th {\n",
       "        vertical-align: top;\n",
       "    }\n",
       "\n",
       "    .dataframe thead th {\n",
       "        text-align: right;\n",
       "    }\n",
       "</style>\n",
       "<table border=\"1\" class=\"dataframe\">\n",
       "  <thead>\n",
       "    <tr style=\"text-align: right;\">\n",
       "      <th></th>\n",
       "      <th>School</th>\n",
       "      <th>Total Students</th>\n",
       "    </tr>\n",
       "  </thead>\n",
       "  <tbody>\n",
       "    <tr>\n",
       "      <th>0</th>\n",
       "      <td>PITTSBURGH PIONEER</td>\n",
       "      <td>17</td>\n",
       "    </tr>\n",
       "    <tr>\n",
       "      <th>1</th>\n",
       "      <td>PITTSBURGH CONROY</td>\n",
       "      <td>43</td>\n",
       "    </tr>\n",
       "    <tr>\n",
       "      <th>2</th>\n",
       "      <td>PITTSBURGH SPRING HILL K-5</td>\n",
       "      <td>125</td>\n",
       "    </tr>\n",
       "    <tr>\n",
       "      <th>3</th>\n",
       "      <td>PITTSBURGH MANCHESTER PreK-8</td>\n",
       "      <td>140</td>\n",
       "    </tr>\n",
       "    <tr>\n",
       "      <th>4</th>\n",
       "      <td>PITTSBURGH MIFFLIN PreK-8</td>\n",
       "      <td>160</td>\n",
       "    </tr>\n",
       "  </tbody>\n",
       "</table>\n",
       "</div>"
      ],
      "text/plain": [
       "                         School  Total Students\n",
       "0            PITTSBURGH PIONEER              17\n",
       "1             PITTSBURGH CONROY              43\n",
       "2    PITTSBURGH SPRING HILL K-5             125\n",
       "3  PITTSBURGH MANCHESTER PreK-8             140\n",
       "4     PITTSBURGH MIFFLIN PreK-8             160"
      ]
     },
     "execution_count": 9,
     "metadata": {},
     "output_type": "execute_result"
    }
   ],
   "source": [
    "public_school_data = pd.read_csv(\"public_school_data.csv\")\n",
    "public_school_students = public_school_data.loc[:, [\"School\",\"Total Students\"]]\n",
    "public_school_students.head()"
   ]
  },
  {
   "cell_type": "code",
   "execution_count": 10,
   "metadata": {},
   "outputs": [
    {
     "data": {
      "text/plain": [
       "<matplotlib.axes._subplots.AxesSubplot at 0x7fc47fe7e310>"
      ]
     },
     "execution_count": 10,
     "metadata": {},
     "output_type": "execute_result"
    },
    {
     "data": {
      "image/png": "[encoded data removed]",
      "text/plain": [
       "<Figure size 432x288 with 1 Axes>"
      ]
     },
     "metadata": {
      "needs_background": "light"
     },
     "output_type": "display_data"
    }
   ],
   "source": [
    "public_school_students[:10].plot.bar()"
   ]
  },
  {
   "cell_type": "code",
   "execution_count": 11,
   "metadata": {},
   "outputs": [
    {
     "data": {
      "text/plain": [
       "STREET_ADDRESS\n",
       "400 STATE ST MS 71    1128\n",
       "200 NEVILLE RD        1014\n",
       "125 COLFAX ST          829\n",
       "300 N STATE ST         612\n",
       "100 RIVER RD           521\n",
       "                      ... \n",
       "2475 DEFENSE AVE         1\n",
       "1000 AIR BRAKE AVE       1\n",
       "2601 PREBLE AVE          1\n",
       "3800 NEVILLE RD          1\n",
       "1105 PITTSBURGH ST       1\n",
       "Name: CARCINOGEN, Length: 199, dtype: int64"
      ]
     },
     "execution_count": 11,
     "metadata": {},
     "output_type": "execute_result"
    }
   ],
   "source": [
    "import sys\n",
    "import pandas as pd\n",
    "import math\n",
    "import numpy as np\n",
    "%matplotlib inline\n",
    "import matplotlib.pyplot as plt\n",
    "#imports\n",
    "water_toxicity = pd.read_csv(\"ToxicWater.csv\")\n",
    "data = water_toxicity.groupby(\"STREET_ADDRESS\")['CARCINOGEN'].count()\n",
    "datasort = data.loc[: \"REPORTING_YEAR\"].sort_values(ascending=False)\n",
    "datasort.head(200)"
   ]
  },
  {
   "cell_type": "code",
   "execution_count": 12,
   "metadata": {},
   "outputs": [
    {
     "data": {
      "image/png": "[encoded data removed]",
      "text/plain": [
       "<Figure size 432x288 with 1 Axes>"
      ]
     },
     "metadata": {
      "needs_background": "light"
     },
     "output_type": "display_data"
    }
   ],
   "source": [
    "import pandas as pd\n",
    "import matplotlib.pyplot as plt\n",
    "\n",
    "public_school_data = pd.read_csv(\"public_school_data.csv\")\n",
    "\n",
    "gt = [16.81178834561286, 2.555647155812036, 3.2116788321167884, 5.526770293609672, 0.0]\n",
    "iep = [12.123241795043537, 21.187139323990106, 32.55474452554745, 19.86183074265976, 0.0]\n",
    "index = ['Allderdice', 'Brashear', 'Carrick',\n",
    "         'Allgheny', 'Faison']\n",
    "df = pd.DataFrame({'Gifted': gt,\n",
    "                   'IEP': iep}, index=index)\n",
    "ax = df.plot.bar(rot=0)"
   ]
  },
  {
   "cell_type": "code",
   "execution_count": null,
   "metadata": {},
   "outputs": [],
   "source": []
  }
 ],
 "metadata": {
  "kernelspec": {
   "display_name": "Python 3",
   "language": "python",
   "name": "python3"
  },
  "language_info": {
   "codemirror_mode": {
    "name": "ipython",
    "version": 3
   },
   "file_extension": ".py",
   "mimetype": "text/x-python",
   "name": "python",
   "nbconvert_exporter": "python",
   "pygments_lexer": "ipython3",
   "version": "3.8.3"
  }
 },
 "nbformat": 4,
 "nbformat_minor": 4
}
