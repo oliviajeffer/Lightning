{
 "cells": [
  {
   "cell_type": "markdown",
   "metadata": {},
   "source": [
    "# Team Lightning - Big Ideas Final Project - Sadhana & Olivia"
   ]
  },
  {
   "cell_type": "markdown",
   "metadata": {},
   "source": [
    "## Introduction"
   ]
  },
  {
   "cell_type": "markdown",
   "metadata": {},
   "source": [
    "Our task was to find the best neighborhood in Pittsburgh, and we believed that in order to do that, we had to assess education, safety, and sustainability. Ultimately progress can only occur if generations continue on, and in order to do that, we must preserve our earth and the people that will live on it in the future. With rising temperatures, toxic resources, and greenhouse gases, it has proven more difficult than ever to maintain health. So our general focus was towards environmental regulation and security within your own home."
   ]
  },
  {
   "cell_type": "markdown",
   "metadata": {},
   "source": [
    "## Education Metric"
   ]
  },
  {
   "cell_type": "markdown",
   "metadata": {},
   "source": [
    "### This metric shows us a list of 82 schools, from pre school to high school, located in Pittsburgh. The data contains the school's name, their total amount of students, gifted students, students in need of an individualized education program (IEP), feeder status (a connection of schools based on districting), and the school's grade level(s)."
   ]
  },
  {
   "cell_type": "code",
   "execution_count": 6,
   "metadata": {},
   "outputs": [
    {
     "data": {
      "text/html": [
       "<div>\n",
       "<style scoped>\n",
       "    .dataframe tbody tr th:only-of-type {\n",
       "        vertical-align: middle;\n",
       "    }\n",
       "\n",
       "    .dataframe tbody tr th {\n",
       "        vertical-align: top;\n",
       "    }\n",
       "\n",
       "    .dataframe thead th {\n",
       "        text-align: right;\n",
       "    }\n",
       "</style>\n",
       "<table border=\"1\" class=\"dataframe\">\n",
       "  <thead>\n",
       "    <tr style=\"text-align: right;\">\n",
       "      <th></th>\n",
       "      <th>School</th>\n",
       "      <th>Total Students</th>\n",
       "      <th>Gifted</th>\n",
       "      <th>IEP</th>\n",
       "      <th>Total Feeder Status</th>\n",
       "      <th>Grade Level</th>\n",
       "    </tr>\n",
       "  </thead>\n",
       "  <tbody>\n",
       "    <tr>\n",
       "      <th>0</th>\n",
       "      <td>PITTSBURGH PIONEER</td>\n",
       "      <td>17</td>\n",
       "      <td>0</td>\n",
       "      <td>0</td>\n",
       "      <td>17</td>\n",
       "      <td>K_5</td>\n",
       "    </tr>\n",
       "    <tr>\n",
       "      <th>1</th>\n",
       "      <td>PITTSBURGH CONROY</td>\n",
       "      <td>43</td>\n",
       "      <td>0</td>\n",
       "      <td>43</td>\n",
       "      <td>43</td>\n",
       "      <td>K_5</td>\n",
       "    </tr>\n",
       "    <tr>\n",
       "      <th>2</th>\n",
       "      <td>PITTSBURGH SPRING HILL K-5</td>\n",
       "      <td>125</td>\n",
       "      <td>0</td>\n",
       "      <td>21</td>\n",
       "      <td>125</td>\n",
       "      <td>K_5</td>\n",
       "    </tr>\n",
       "    <tr>\n",
       "      <th>3</th>\n",
       "      <td>PITTSBURGH MANCHESTER PreK-8</td>\n",
       "      <td>140</td>\n",
       "      <td>0</td>\n",
       "      <td>0</td>\n",
       "      <td>140</td>\n",
       "      <td>K_5</td>\n",
       "    </tr>\n",
       "    <tr>\n",
       "      <th>4</th>\n",
       "      <td>PITTSBURGH MIFFLIN PreK-8</td>\n",
       "      <td>160</td>\n",
       "      <td>0</td>\n",
       "      <td>0</td>\n",
       "      <td>160</td>\n",
       "      <td>K_5</td>\n",
       "    </tr>\n",
       "    <tr>\n",
       "      <th>...</th>\n",
       "      <td>...</td>\n",
       "      <td>...</td>\n",
       "      <td>...</td>\n",
       "      <td>...</td>\n",
       "      <td>...</td>\n",
       "      <td>...</td>\n",
       "    </tr>\n",
       "    <tr>\n",
       "      <th>77</th>\n",
       "      <td>PITTSBURGH OBAMA IB 6-12</td>\n",
       "      <td>513</td>\n",
       "      <td>83</td>\n",
       "      <td>53</td>\n",
       "      <td>513</td>\n",
       "      <td>9_12</td>\n",
       "    </tr>\n",
       "    <tr>\n",
       "      <th>78</th>\n",
       "      <td>PITTSBURGH CAPA 6-12</td>\n",
       "      <td>523</td>\n",
       "      <td>181</td>\n",
       "      <td>28</td>\n",
       "      <td>523</td>\n",
       "      <td>9_12</td>\n",
       "    </tr>\n",
       "    <tr>\n",
       "      <th>79</th>\n",
       "      <td>PITTSBURGH CARRICK HIGH SCHOOL</td>\n",
       "      <td>685</td>\n",
       "      <td>22</td>\n",
       "      <td>223</td>\n",
       "      <td>685</td>\n",
       "      <td>9_12</td>\n",
       "    </tr>\n",
       "    <tr>\n",
       "      <th>80</th>\n",
       "      <td>PITTSBURGH BRASHEAR HIGH SCHOOL</td>\n",
       "      <td>1213</td>\n",
       "      <td>31</td>\n",
       "      <td>257</td>\n",
       "      <td>1213</td>\n",
       "      <td>9_12</td>\n",
       "    </tr>\n",
       "    <tr>\n",
       "      <th>81</th>\n",
       "      <td>PITTSBURGH ALLDERDICE HIGH SCHOOL</td>\n",
       "      <td>1493</td>\n",
       "      <td>251</td>\n",
       "      <td>181</td>\n",
       "      <td>1493</td>\n",
       "      <td>9_12</td>\n",
       "    </tr>\n",
       "  </tbody>\n",
       "</table>\n",
       "<p>82 rows × 6 columns</p>\n",
       "</div>"
      ],
      "text/plain": [
       "                               School  Total Students  Gifted  IEP  \\\n",
       "0                  PITTSBURGH PIONEER              17       0    0   \n",
       "1                   PITTSBURGH CONROY              43       0   43   \n",
       "2          PITTSBURGH SPRING HILL K-5             125       0   21   \n",
       "3        PITTSBURGH MANCHESTER PreK-8             140       0    0   \n",
       "4           PITTSBURGH MIFFLIN PreK-8             160       0    0   \n",
       "..                                ...             ...     ...  ...   \n",
       "77           PITTSBURGH OBAMA IB 6-12             513      83   53   \n",
       "78               PITTSBURGH CAPA 6-12             523     181   28   \n",
       "79     PITTSBURGH CARRICK HIGH SCHOOL             685      22  223   \n",
       "80    PITTSBURGH BRASHEAR HIGH SCHOOL            1213      31  257   \n",
       "81  PITTSBURGH ALLDERDICE HIGH SCHOOL            1493     251  181   \n",
       "\n",
       "    Total Feeder Status Grade Level  \n",
       "0                    17         K_5  \n",
       "1                    43         K_5  \n",
       "2                   125         K_5  \n",
       "3                   140         K_5  \n",
       "4                   160         K_5  \n",
       "..                  ...         ...  \n",
       "77                  513        9_12  \n",
       "78                  523        9_12  \n",
       "79                  685        9_12  \n",
       "80                 1213        9_12  \n",
       "81                 1493        9_12  \n",
       "\n",
       "[82 rows x 6 columns]"
      ]
     },
     "execution_count": 6,
     "metadata": {},
     "output_type": "execute_result"
    }
   ],
   "source": [
    "import sys\n",
    "import pandas as pd\n",
    "import math\n",
    "import numpy as np\n",
    "%matplotlib inline\n",
    "import matplotlib.pyplot as plt\n",
    "\n",
    "#now we are instantiating our public_school_data csv file so that we can view the data\n",
    "public_school_data = pd.read_csv(\"public_school_data.csv\")\n",
    "public_school_data.groupby('School').head()\n",
    "\n",
    "#below is a table of all of the schools (82 in total, as it says in rows) and each school's data"
   ]
  },
  {
   "cell_type": "markdown",
   "metadata": {},
   "source": [
    "The code above imports *( e.g. \"import pandas as pd\" )* all of the libraries *( in python )* necessary to create a table listing all of the schools in the Pittsburgh area and their total student, gifted student, individualized education program student, and feeder student population, as well as the grade level they accommodate. The numbers to the left of the school name are the indexes of each school in the table, beginning at 0. So we read in the file *( \"public_school_data.csv\" )*, naming it \"public_school_data\", and printing out *( head( ) )* the table of the indexes, school, and student information and values."
   ]
  },
  {
   "cell_type": "code",
   "execution_count": 54,
   "metadata": {},
   "outputs": [
    {
     "data": {
      "text/html": [
       "<div>\n",
       "<style scoped>\n",
       "    .dataframe tbody tr th:only-of-type {\n",
       "        vertical-align: middle;\n",
       "    }\n",
       "\n",
       "    .dataframe tbody tr th {\n",
       "        vertical-align: top;\n",
       "    }\n",
       "\n",
       "    .dataframe thead th {\n",
       "        text-align: right;\n",
       "    }\n",
       "</style>\n",
       "<table border=\"1\" class=\"dataframe\">\n",
       "  <thead>\n",
       "    <tr style=\"text-align: right;\">\n",
       "      <th></th>\n",
       "      <th>School</th>\n",
       "      <th>Total Students</th>\n",
       "    </tr>\n",
       "  </thead>\n",
       "  <tbody>\n",
       "    <tr>\n",
       "      <th>0</th>\n",
       "      <td>PITTSBURGH PIONEER</td>\n",
       "      <td>17</td>\n",
       "    </tr>\n",
       "    <tr>\n",
       "      <th>1</th>\n",
       "      <td>PITTSBURGH CONROY</td>\n",
       "      <td>43</td>\n",
       "    </tr>\n",
       "    <tr>\n",
       "      <th>2</th>\n",
       "      <td>PITTSBURGH SPRING HILL K-5</td>\n",
       "      <td>125</td>\n",
       "    </tr>\n",
       "    <tr>\n",
       "      <th>3</th>\n",
       "      <td>PITTSBURGH MANCHESTER PreK-8</td>\n",
       "      <td>140</td>\n",
       "    </tr>\n",
       "    <tr>\n",
       "      <th>4</th>\n",
       "      <td>PITTSBURGH MIFFLIN PreK-8</td>\n",
       "      <td>160</td>\n",
       "    </tr>\n",
       "    <tr>\n",
       "      <th>5</th>\n",
       "      <td>PITTSBURGH WHITTIER K-5</td>\n",
       "      <td>168</td>\n",
       "    </tr>\n",
       "    <tr>\n",
       "      <th>6</th>\n",
       "      <td>PITTSBURGH SUNNYSIDE PreK-8</td>\n",
       "      <td>170</td>\n",
       "    </tr>\n",
       "    <tr>\n",
       "      <th>7</th>\n",
       "      <td>PITTSBURGH WEST LIBERTY PreK-5</td>\n",
       "      <td>171</td>\n",
       "    </tr>\n",
       "    <tr>\n",
       "      <th>8</th>\n",
       "      <td>PITTSBURGH WEIL PreK-5</td>\n",
       "      <td>190</td>\n",
       "    </tr>\n",
       "    <tr>\n",
       "      <th>9</th>\n",
       "      <td>PITTSBURGH LINCOLN PreK-5</td>\n",
       "      <td>194</td>\n",
       "    </tr>\n",
       "  </tbody>\n",
       "</table>\n",
       "</div>"
      ],
      "text/plain": [
       "                           School  Total Students\n",
       "0              PITTSBURGH PIONEER              17\n",
       "1               PITTSBURGH CONROY              43\n",
       "2      PITTSBURGH SPRING HILL K-5             125\n",
       "3    PITTSBURGH MANCHESTER PreK-8             140\n",
       "4       PITTSBURGH MIFFLIN PreK-8             160\n",
       "5         PITTSBURGH WHITTIER K-5             168\n",
       "6     PITTSBURGH SUNNYSIDE PreK-8             170\n",
       "7  PITTSBURGH WEST LIBERTY PreK-5             171\n",
       "8          PITTSBURGH WEIL PreK-5             190\n",
       "9       PITTSBURGH LINCOLN PreK-5             194"
      ]
     },
     "execution_count": 54,
     "metadata": {},
     "output_type": "execute_result"
    }
   ],
   "source": [
    "import sys\n",
    "import pandas as pd\n",
    "import math\n",
    "import numpy as np\n",
    "%matplotlib inline\n",
    "import matplotlib.pyplot as plt\n",
    "\n",
    "public_school_data = pd.read_csv(\"public_school_data.csv\")\n",
    "public_school_students = public_school_data.loc[:, [\"School\",\"Total Students\"]]\n",
    "public_school_students.head(10)"
   ]
  },
  {
   "cell_type": "code",
   "execution_count": 45,
   "metadata": {},
   "outputs": [
    {
     "data": {
      "text/plain": [
       "81    1493\n",
       "80    1213\n",
       "79     685\n",
       "35     596\n",
       "34     579\n",
       "78     523\n",
       "77     513\n",
       "63     483\n",
       "33     477\n",
       "76     469\n",
       "Name: Total Students, dtype: int64"
      ]
     },
     "execution_count": 45,
     "metadata": {},
     "output_type": "execute_result"
    }
   ],
   "source": [
    "public_school_student = public_school_data.loc[:, \"Total Students\"].sort_values(ascending=False)\n",
    "public_school_student.head(10)"
   ]
  },
  {
   "cell_type": "markdown",
   "metadata": {},
   "source": [
    "This code takes the csv file, that we named \"public_school_data\", and creates a table of the top 10 *( which the sort_values( ) method allows us to do )* most populated schools *(which is why ascending is set equal to false)* in the Pittsburgh area and provides the index for the school *( which is what the numbers are on the left side )*."
   ]
  },
  {
   "cell_type": "code",
   "execution_count": 16,
   "metadata": {},
   "outputs": [
    {
     "data": {
      "text/plain": [
       "64    11\n",
       "36    13\n",
       "0     17\n",
       "37    20\n",
       "66    21\n",
       "65    21\n",
       "67    22\n",
       "38    22\n",
       "68    23\n",
       "39    39\n",
       "Name: Total Students, dtype: int64"
      ]
     },
     "execution_count": 16,
     "metadata": {},
     "output_type": "execute_result"
    }
   ],
   "source": [
    "least_total = public_school_data.loc[:, \"Total Students\"].sort_values(ascending=True)\n",
    "least_total.head(10)\n",
    "#this is the least populated schools"
   ]
  },
  {
   "cell_type": "markdown",
   "metadata": {},
   "source": [
    "Similar to above, this is taking the csv file and showing the top 10  *( head( 10 ) method makes this only the 10 most/least, however we choose to sort it)*  least populated schools  *( so we make ascending, or increasing, equal to true this time )*  and the index of that school *( on the left side, the right side is the total population )*."
   ]
  },
  {
   "cell_type": "code",
   "execution_count": 8,
   "metadata": {},
   "outputs": [
    {
     "data": {
      "text/plain": [
       "<matplotlib.axes._subplots.AxesSubplot at 0x7f782b070760>"
      ]
     },
     "execution_count": 8,
     "metadata": {},
     "output_type": "execute_result"
    },
    {
     "data": {
      "image/png": "[encoded data removed]",
      "text/plain": [
       "<Figure size 432x288 with 1 Axes>"
      ]
     },
     "metadata": {
      "needs_background": "light"
     },
     "output_type": "display_data"
    }
   ],
   "source": [
    "public_school_students[:10].plot.bar()\n",
    "#this creates a visualization of the top 10 most populated schools"
   ]
  },
  {
   "cell_type": "markdown",
   "metadata": {},
   "source": [
    "This code creates a bar graph of the top 10 *( what [ :10 ] does for the graph )* most populated schools, with the x axis being the index of the school in the table and the y axis being the total population value. Showing that the most populated is the school in index 81, which the csv file shows to be Allderdice highschool, and the following indexes can also be proved to be a certain school as well with the csv file."
   ]
  },
  {
   "cell_type": "code",
   "execution_count": 17,
   "metadata": {},
   "outputs": [
    {
     "data": {
      "text/plain": [
       "<matplotlib.axes._subplots.AxesSubplot at 0x7f7828a50910>"
      ]
     },
     "execution_count": 17,
     "metadata": {},
     "output_type": "execute_result"
    },
    {
     "data": {
      "image/png": "[encoded data removed]",
      "text/plain": [
       "<Figure size 432x288 with 1 Axes>"
      ]
     },
     "metadata": {
      "needs_background": "light"
     },
     "output_type": "display_data"
    }
   ],
   "source": [
    "least_total[:10].plot.bar()\n",
    "#a graph for the least populated"
   ]
  },
  {
   "cell_type": "markdown",
   "metadata": {},
   "source": [
    "This is a bar graph of the 10 least populated schools, in the same structure as the bar graph above."
   ]
  },
  {
   "cell_type": "code",
   "execution_count": 9,
   "metadata": {},
   "outputs": [
    {
     "data": {
      "text/plain": [
       "81    251\n",
       "78    181\n",
       "61    118\n",
       "35    114\n",
       "75    102\n",
       "55     92\n",
       "77     83\n",
       "54     66\n",
       "62     56\n",
       "21     49\n",
       "Name: Gifted, dtype: int64"
      ]
     },
     "execution_count": 9,
     "metadata": {},
     "output_type": "execute_result"
    }
   ],
   "source": [
    "public_school_gifted = public_school_data.loc[:, \"Gifted\"].sort_values(ascending=False)\n",
    "public_school_gifted.head(10)\n",
    "#similar to the other data set, this takes our original and returns the top 10 schools with the most amount of gifted students"
   ]
  },
  {
   "cell_type": "markdown",
   "metadata": {},
   "source": [
    "Using the same techniques, but for a different column in the csv file *( which we do by putting the exact name of the column in for the parameters after the .loc, inside the brackets )*, we have found the top 10 gifted student population with the schools's index on the left *( we find the name of the school by going to the given index that our code prints out for us and reading the school's name at that particular index / row )*"
   ]
  },
  {
   "cell_type": "code",
   "execution_count": 10,
   "metadata": {},
   "outputs": [
    {
     "data": {
      "text/plain": [
       "<matplotlib.axes._subplots.AxesSubplot at 0x7f7828fa1040>"
      ]
     },
     "execution_count": 10,
     "metadata": {},
     "output_type": "execute_result"
    },
    {
     "data": {
      "image/png": "[encoded data removed]",
      "text/plain": [
       "<Figure size 432x288 with 1 Axes>"
      ]
     },
     "metadata": {
      "needs_background": "light"
     },
     "output_type": "display_data"
    }
   ],
   "source": [
    "public_school_gifted[:10].plot.bar()\n",
    "#creating a visualization of the amount of gifted students"
   ]
  },
  {
   "cell_type": "markdown",
   "metadata": {},
   "source": [
    "Here is a graph of the top 10 schools with the highest gifted student population, which we identify, as well as IEP, in the code cell at the bottom of this metric's section."
   ]
  },
  {
   "cell_type": "code",
   "execution_count": 11,
   "metadata": {},
   "outputs": [
    {
     "data": {
      "text/plain": [
       "80    257\n",
       "79    223\n",
       "81    181\n",
       "63    119\n",
       "34    115\n",
       "30     90\n",
       "31     89\n",
       "58     88\n",
       "22     86\n",
       "59     77\n",
       "Name: IEP, dtype: int64"
      ]
     },
     "execution_count": 11,
     "metadata": {},
     "output_type": "execute_result"
    }
   ],
   "source": [
    "#while being able to adapt schooling for gifted students is important, so is for special needs students\n",
    "public_school_iep = public_school_data.loc[:, \"IEP\"].sort_values(ascending=False)\n",
    "public_school_iep.head(10)"
   ]
  },
  {
   "cell_type": "markdown",
   "metadata": {},
   "source": [
    "This is a table of the top 10 schools with the highest population of students in need of an indivualized eduation program (IEP), with the values descending *( decreasing )*, so it will give us the highest values first."
   ]
  },
  {
   "cell_type": "code",
   "execution_count": 12,
   "metadata": {},
   "outputs": [
    {
     "data": {
      "text/plain": [
       "<matplotlib.axes._subplots.AxesSubplot at 0x7f7828b09730>"
      ]
     },
     "execution_count": 12,
     "metadata": {},
     "output_type": "execute_result"
    },
    {
     "data": {
      "image/png": "[encoded data removed]",
      "text/plain": [
       "<Figure size 432x288 with 1 Axes>"
      ]
     },
     "metadata": {
      "needs_background": "light"
     },
     "output_type": "display_data"
    }
   ],
   "source": [
    "public_school_iep[:10].plot.bar()"
   ]
  },
  {
   "cell_type": "markdown",
   "metadata": {},
   "source": [
    "This is a graph of those top 10 schools with the highest IEP need students."
   ]
  },
  {
   "cell_type": "code",
   "execution_count": 26,
   "metadata": {},
   "outputs": [
    {
     "name": "stdout",
     "output_type": "stream",
     "text": [
      "81/Allderdice Highschool: 16.81178834561286 , 12.123241795043537\n",
      "80/Brashear Highschool: 2.555647155812036 , 21.187139323990106\n",
      "79/Carrick Highschool: 3.2116788321167884 , 32.55474452554745\n",
      "35/Allgheny Elementary: 5.526770293609672 , 19.86183074265976\n",
      "34/Faison Elementary: 0.0 , 0.0\n"
     ]
    }
   ],
   "source": [
    "#it's important to include proportionality, so we're going to find the percentage of the schools that have the most gifted and iep students\n",
    "#we are also going to include the least populated\n",
    "#we are including the top 10 most populated schools in their calculations\n",
    "percent_allderdice_gifted = (251/1493)*100\n",
    "s1 = str(percent_allderdice_gifted)\n",
    "percent_allderdice_iep = (181/1493)*100\n",
    "s2 = str(percent_allderdice_iep)\n",
    "#81\n",
    "percent_brashear_gifted = (31/1213)*100\n",
    "s3 = str(percent_brashear_gifted)\n",
    "percent_brashear_iep = (257/1213)*100\n",
    "s4 = str(percent_brashear_iep)\n",
    "#80\n",
    "percent_carrick_gifted = (22/685)*100\n",
    "s5 = str(percent_carrick_gifted)\n",
    "percent_carrick_iep = (223/685)*100\n",
    "s6 = str(percent_carrick_iep)\n",
    "#79\n",
    "percent_allgheny_gifted = (32/579)*100\n",
    "s7 = str(percent_allgheny_gifted)\n",
    "percent_allgheny_iep = (115/579)*100\n",
    "s8 = str(percent_allgheny_iep)\n",
    "#35\n",
    "percent_faison_gifted = (0/477)*100\n",
    "s9 = str(percent_faison_gifted)\n",
    "percent_faison_iep = (0/477)*100\n",
    "s10 = str(percent_faison_iep)\n",
    "#34\n",
    "\n",
    "#the 10 most least populated schools all have 0 gifted and 0 iep, therefore their percentages will all be 0\n",
    "\n",
    "print(\"81/Allderdice Highschool: \" + s1 + \" , \" + s2)\n",
    "print(\"80/Brashear Highschool: \" + s3 + \" , \" + s4)\n",
    "print(\"79/Carrick Highschool: \" + s5 + \" , \" + s6)\n",
    "print(\"35/Allgheny Elementary: \" + s7 + \" , \" + s8)\n",
    "print(\"34/Faison Elementary: \" + s9 + \" , \" + s10)\n",
    "#gifted first, then iep percentages"
   ]
  },
  {
   "cell_type": "markdown",
   "metadata": {},
   "source": [
    "What this code is doing is taking the top 5 most populated schools, which we found from the indexes given to us by our code and going back into the csv file to find the names, and calculating their proportionality of total students to gifted and IEP students, and coverting that to a percentage, then printing it out in the format of: School Index/School Name: Gifted Percentage , IEP Percentage\n",
    "The math we're doing is getting the values for each of the 3 columns we've discussed, and dividing gifted by total and iep by total, then multiplying both by 100 to get a percentage. Then after the math is done, we convert those into strings with the str( ) method and print them all out.\n",
    "\n",
    "Allderdice is the school at the 81th spot in the csv file, that is how we are getting the names of the schools from our coded data."
   ]
  },
  {
   "cell_type": "code",
   "execution_count": 13,
   "metadata": {},
   "outputs": [
    {
     "data": {
      "image/png": "[encoded data removed]",
      "text/plain": [
       "<Figure size 432x288 with 1 Axes>"
      ]
     },
     "metadata": {
      "needs_background": "light"
     },
     "output_type": "display_data"
    }
   ],
   "source": [
    "import pandas as pd\n",
    "import matplotlib.pyplot as plt\n",
    "\n",
    "public_school_data = pd.read_csv(\"public_school_data.csv\")\n",
    "\n",
    "gt = [16.81178834561286, 2.555647155812036, 3.2116788321167884, 5.526770293609672, 0.0]\n",
    "iep = [12.123241795043537, 21.187139323990106, 32.55474452554745, 19.86183074265976, 0.0]\n",
    "index = ['Allderdice', 'Brashear', 'Carrick',\n",
    "         'Allgheny', 'Faison']\n",
    "df = pd.DataFrame({'Gifted': gt,\n",
    "                   'IEP': iep}, index=index)\n",
    "ax = df.plot.bar(rot=0)\n",
    "##bar graph comparison of the top 5 schools"
   ]
  },
  {
   "cell_type": "markdown",
   "metadata": {},
   "source": [
    "In order to rank, we'll give each school a number of points for gifted and iep each. So we have gifted *( in order of most to least )* : Allderdice (+5), Allgheny (+4), Carrick (+3), Brashear (+2), Faison (+1); then IEP: Carrick (+5), Brashear (+4), Allgheny (+3), Allderdice (+2), Faison (+1). Which will result in Allderdice High being the most relevant for gifted students, Carrick High being most relevant for students needing IEP, Alderdice being the most well rounded between the two *( lowest margin range, making it more accommodating for more students )*, and Carrick having the most points between gifted and iep rankings *( 8 points; highest collective populations of gifted and iep students )*. Therefore **Allderdice** and **Carrick** are the **best schools** in Pittsburgh in terms of student accommodation and inclusion, and Allderdice is located in **Squirrel Hill (+1)**, while Carrick is located in **Carrick (+1)**."
   ]
  },
  {
   "cell_type": "markdown",
   "metadata": {},
   "source": [
    "## Safety Metric"
   ]
  },
  {
   "cell_type": "markdown",
   "metadata": {},
   "source": [
    "### This metric shows us the average traffic count and where the police zones are, and where they monitor. This will evaluate the safety of each neighborhood."
   ]
  },
  {
   "cell_type": "code",
   "execution_count": 27,
   "metadata": {},
   "outputs": [
    {
     "data": {
      "text/html": [
       "<div>\n",
       "<style scoped>\n",
       "    .dataframe tbody tr th:only-of-type {\n",
       "        vertical-align: middle;\n",
       "    }\n",
       "\n",
       "    .dataframe tbody tr th {\n",
       "        vertical-align: top;\n",
       "    }\n",
       "\n",
       "    .dataframe thead th {\n",
       "        text-align: right;\n",
       "    }\n",
       "</style>\n",
       "<table border=\"1\" class=\"dataframe\">\n",
       "  <thead>\n",
       "    <tr style=\"text-align: right;\">\n",
       "      <th></th>\n",
       "      <th>id</th>\n",
       "      <th>device_id</th>\n",
       "      <th>record_oid</th>\n",
       "      <th>count_start_date</th>\n",
       "      <th>count_end_date</th>\n",
       "      <th>average_daily_car_traffic</th>\n",
       "      <th>average_daily_bike_traffic</th>\n",
       "      <th>counter_number</th>\n",
       "      <th>counter_type</th>\n",
       "      <th>speed_limit</th>\n",
       "      <th>...</th>\n",
       "      <th>longitude</th>\n",
       "      <th>latitude</th>\n",
       "      <th>neighborhood</th>\n",
       "      <th>council_district</th>\n",
       "      <th>ward</th>\n",
       "      <th>tract</th>\n",
       "      <th>public_works_division</th>\n",
       "      <th>pli_division</th>\n",
       "      <th>police_zone</th>\n",
       "      <th>fire_zone</th>\n",
       "    </tr>\n",
       "  </thead>\n",
       "  <tbody>\n",
       "    <tr>\n",
       "      <th>0</th>\n",
       "      <td>1011743669</td>\n",
       "      <td>85</td>\n",
       "      <td>1.445865e+09</td>\n",
       "      <td>4/18/2019</td>\n",
       "      <td>4/26/2019</td>\n",
       "      <td>4949.0</td>\n",
       "      <td>NaN</td>\n",
       "      <td>6</td>\n",
       "      <td>StatTrak</td>\n",
       "      <td>25.0</td>\n",
       "      <td>...</td>\n",
       "      <td>-79.967772</td>\n",
       "      <td>40.455733</td>\n",
       "      <td>Polish Hill</td>\n",
       "      <td>7.0</td>\n",
       "      <td>6.0</td>\n",
       "      <td>42003060500</td>\n",
       "      <td>6.0</td>\n",
       "      <td>6.0</td>\n",
       "      <td>2.0</td>\n",
       "      <td>6-Feb</td>\n",
       "    </tr>\n",
       "    <tr>\n",
       "      <th>1</th>\n",
       "      <td>1026101993</td>\n",
       "      <td>140</td>\n",
       "      <td>1.121444e+09</td>\n",
       "      <td>1/24/2019</td>\n",
       "      <td>NaN</td>\n",
       "      <td>NaN</td>\n",
       "      <td>NaN</td>\n",
       "      <td>NaN</td>\n",
       "      <td>Intersection Study</td>\n",
       "      <td>NaN</td>\n",
       "      <td>...</td>\n",
       "      <td>-79.952249</td>\n",
       "      <td>40.466157</td>\n",
       "      <td>Central Lawrenceville</td>\n",
       "      <td>7.0</td>\n",
       "      <td>9.0</td>\n",
       "      <td>42003090200</td>\n",
       "      <td>2.0</td>\n",
       "      <td>9.0</td>\n",
       "      <td>2.0</td>\n",
       "      <td>6-Mar</td>\n",
       "    </tr>\n",
       "    <tr>\n",
       "      <th>2</th>\n",
       "      <td>1032382575</td>\n",
       "      <td>11</td>\n",
       "      <td>1.539893e+09</td>\n",
       "      <td>8/28/2018</td>\n",
       "      <td>9/4/2018</td>\n",
       "      <td>NaN</td>\n",
       "      <td>NaN</td>\n",
       "      <td>NaN</td>\n",
       "      <td>NaN</td>\n",
       "      <td>35.0</td>\n",
       "      <td>...</td>\n",
       "      <td>-80.076469</td>\n",
       "      <td>40.460717</td>\n",
       "      <td>Windgap</td>\n",
       "      <td>2.0</td>\n",
       "      <td>28.0</td>\n",
       "      <td>42003563000</td>\n",
       "      <td>5.0</td>\n",
       "      <td>28.0</td>\n",
       "      <td>6.0</td>\n",
       "      <td>16-Jan</td>\n",
       "    </tr>\n",
       "    <tr>\n",
       "      <th>3</th>\n",
       "      <td>103627606</td>\n",
       "      <td>9</td>\n",
       "      <td>7.341951e+08</td>\n",
       "      <td>7/17/2018</td>\n",
       "      <td>8/1/2018</td>\n",
       "      <td>2741.0</td>\n",
       "      <td>NaN</td>\n",
       "      <td>NaN</td>\n",
       "      <td>StatTrak</td>\n",
       "      <td>25.0</td>\n",
       "      <td>...</td>\n",
       "      <td>-79.914335</td>\n",
       "      <td>40.437379</td>\n",
       "      <td>Squirrel Hill South</td>\n",
       "      <td>5.0</td>\n",
       "      <td>14.0</td>\n",
       "      <td>42003140800</td>\n",
       "      <td>3.0</td>\n",
       "      <td>14.0</td>\n",
       "      <td>4.0</td>\n",
       "      <td>18-Feb</td>\n",
       "    </tr>\n",
       "    <tr>\n",
       "      <th>4</th>\n",
       "      <td>1039546167</td>\n",
       "      <td>144</td>\n",
       "      <td>NaN</td>\n",
       "      <td>NaN</td>\n",
       "      <td>NaN</td>\n",
       "      <td>NaN</td>\n",
       "      <td>NaN</td>\n",
       "      <td>NaN</td>\n",
       "      <td>NaN</td>\n",
       "      <td>NaN</td>\n",
       "      <td>...</td>\n",
       "      <td>-80.019211</td>\n",
       "      <td>40.490794</td>\n",
       "      <td>Perry North</td>\n",
       "      <td>1.0</td>\n",
       "      <td>26.0</td>\n",
       "      <td>42003260200</td>\n",
       "      <td>1.0</td>\n",
       "      <td>26.0</td>\n",
       "      <td>1.0</td>\n",
       "      <td>15-Jan</td>\n",
       "    </tr>\n",
       "  </tbody>\n",
       "</table>\n",
       "<p>5 rows × 25 columns</p>\n",
       "</div>"
      ],
      "text/plain": [
       "           id  device_id    record_oid count_start_date count_end_date  \\\n",
       "0  1011743669         85  1.445865e+09        4/18/2019      4/26/2019   \n",
       "1  1026101993        140  1.121444e+09        1/24/2019            NaN   \n",
       "2  1032382575         11  1.539893e+09        8/28/2018       9/4/2018   \n",
       "3   103627606          9  7.341951e+08        7/17/2018       8/1/2018   \n",
       "4  1039546167        144           NaN              NaN            NaN   \n",
       "\n",
       "   average_daily_car_traffic  average_daily_bike_traffic counter_number  \\\n",
       "0                     4949.0                         NaN              6   \n",
       "1                        NaN                         NaN            NaN   \n",
       "2                        NaN                         NaN            NaN   \n",
       "3                     2741.0                         NaN            NaN   \n",
       "4                        NaN                         NaN            NaN   \n",
       "\n",
       "         counter_type  speed_limit  ...  longitude   latitude  \\\n",
       "0            StatTrak         25.0  ... -79.967772  40.455733   \n",
       "1  Intersection Study          NaN  ... -79.952249  40.466157   \n",
       "2                 NaN         35.0  ... -80.076469  40.460717   \n",
       "3            StatTrak         25.0  ... -79.914335  40.437379   \n",
       "4                 NaN          NaN  ... -80.019211  40.490794   \n",
       "\n",
       "            neighborhood  council_district  ward        tract  \\\n",
       "0            Polish Hill               7.0   6.0  42003060500   \n",
       "1  Central Lawrenceville               7.0   9.0  42003090200   \n",
       "2                Windgap               2.0  28.0  42003563000   \n",
       "3    Squirrel Hill South               5.0  14.0  42003140800   \n",
       "4            Perry North               1.0  26.0  42003260200   \n",
       "\n",
       "   public_works_division pli_division  police_zone  fire_zone  \n",
       "0                    6.0          6.0          2.0      6-Feb  \n",
       "1                    2.0          9.0          2.0      6-Mar  \n",
       "2                    5.0         28.0          6.0     16-Jan  \n",
       "3                    3.0         14.0          4.0     18-Feb  \n",
       "4                    1.0         26.0          1.0     15-Jan  \n",
       "\n",
       "[5 rows x 25 columns]"
      ]
     },
     "execution_count": 27,
     "metadata": {},
     "output_type": "execute_result"
    }
   ],
   "source": [
    "import pandas as pd\n",
    "import math\n",
    "import numpy as np\n",
    "%matplotlib inline\n",
    "import matplotlib.pyplot as plt\n",
    "\n",
    "trafficcount = pd.read_csv(\"TrafficCount.csv\")\n",
    "trafficcount.head()"
   ]
  },
  {
   "cell_type": "markdown",
   "metadata": {},
   "source": [
    "The code above is importing libraries from Python and reading the Traffic Count csv file, which we named trafficcount, and printing out a table of all of its information *( which is what trafficcount.head( ) does in python )*."
   ]
  },
  {
   "cell_type": "code",
   "execution_count": 28,
   "metadata": {},
   "outputs": [
    {
     "name": "stdout",
     "output_type": "stream",
     "text": [
      "Number of police zones in each neighborhood: \n"
     ]
    },
    {
     "data": {
      "text/plain": [
       "neighborhood\n",
       "Allegheny Center       1\n",
       "Allegheny West         1\n",
       "Arlington              3\n",
       "Banksville             1\n",
       "Beechview              4\n",
       "                      ..\n",
       "Upper Hill             4\n",
       "Upper Lawrenceville    1\n",
       "West Oakland           2\n",
       "Westwood               4\n",
       "Windgap                3\n",
       "Name: police_zone, Length: 74, dtype: int64"
      ]
     },
     "execution_count": 28,
     "metadata": {},
     "output_type": "execute_result"
    }
   ],
   "source": [
    "import pandas as pd\n",
    "\n",
    "trafficcount = pd.read_csv('TrafficCount.csv')\n",
    "trafficcount.head()\n",
    "\n",
    "print(\"Number of police zones in each neighborhood: \")\n",
    "num_policeZones = trafficcount.groupby(\"neighborhood\")['police_zone'].count()\n",
    "#print number of police zones in each neighborhood\n",
    "num_policeZones"
   ]
  },
  {
   "cell_type": "markdown",
   "metadata": {},
   "source": [
    "This code is showing the neighborhood's name on the left and the number of police zones *( where officers patrol )* on the right. These police zones are important because if there are more police officers patroling the area, then it is more likely that the neighborhood will remain safe and secure. therefore more police zones are a good thing in this scenario.\n",
    "With the groupby( column_name ) method, we are able to change where the index usually goes to the column we put in the parameters, which in this case is the neighborhood name. The parameter in the brackets is the column containing the values we have on the right. The very bottom line is giving the name of the column in the csv file and the size of the file."
   ]
  },
  {
   "cell_type": "code",
   "execution_count": 53,
   "metadata": {},
   "outputs": [
    {
     "name": "stdout",
     "output_type": "stream",
     "text": [
      "              neighborhood  police_zone\n",
      "0              Polish Hill          2.0\n",
      "1    Central Lawrenceville          2.0\n",
      "2                  Windgap          6.0\n",
      "3      Squirrel Hill South          4.0\n",
      "4              Perry North          1.0\n",
      "..                     ...          ...\n",
      "415            Summer Hill          1.0\n",
      "416       Brighton Heights          1.0\n",
      "417             Upper Hill          2.0\n",
      "418            Middle Hill          2.0\n",
      "419       Crawford-Roberts          2.0\n",
      "\n",
      "[420 rows x 2 columns]\n"
     ]
    }
   ],
   "source": [
    "import pandas as pd\n",
    "\n",
    "trafficcount = pd.read_csv('TrafficCount.csv')\n",
    "print(trafficcount[['neighborhood', 'police_zone']])\n",
    "max_v = trafficcount['police_zone'].max()\n",
    "max_v\n",
    "max_index = trafficcount[['police_zone']].idxmax()"
   ]
  },
  {
   "cell_type": "markdown",
   "metadata": {},
   "source": [
    "This shows us the neighborhood with the most police zones *( its index and name )*, which is **Windgap (+1)** with 6.0, **Squirrel Hill South (+1)** with 4.0, and a several way tie for third with 2.0, making them the **most safe**. With **Summer Hill (-1)**, **Brighton Heights (-1)**, and **Perry North (-1)** proving to have the least police zones, making them **less safe** compared to the average of around 2.0."
   ]
  },
  {
   "cell_type": "code",
   "execution_count": 30,
   "metadata": {},
   "outputs": [
    {
     "name": "stdout",
     "output_type": "stream",
     "text": [
      "Maximum number of police zones a neighborhood has: \n"
     ]
    },
    {
     "data": {
      "text/plain": [
       "28"
      ]
     },
     "execution_count": 30,
     "metadata": {},
     "output_type": "execute_result"
    }
   ],
   "source": [
    "num_policeZones = trafficcount.groupby(\"neighborhood\")['police_zone'].count()\n",
    "max_value = num_policeZones.max()\n",
    "print(\"Maximum number of police zones a neighborhood has: \")\n",
    "max_value"
   ]
  },
  {
   "cell_type": "markdown",
   "metadata": {},
   "source": [
    "Finding the max amount of zones a neighborhood could possibly have with the .max( ) method."
   ]
  },
  {
   "cell_type": "code",
   "execution_count": 31,
   "metadata": {},
   "outputs": [
    {
     "data": {
      "text/plain": [
       "<matplotlib.axes._subplots.AxesSubplot at 0x7f782878fa30>"
      ]
     },
     "execution_count": 31,
     "metadata": {},
     "output_type": "execute_result"
    },
    {
     "data": {
      "image/png": "[encoded data removed]",
      "text/plain": [
       "<Figure size 432x288 with 1 Axes>"
      ]
     },
     "metadata": {
      "needs_background": "light"
     },
     "output_type": "display_data"
    }
   ],
   "source": [
    "trafficcount[\"police_zone\"].value_counts().sort_index().plot(kind = 'bar', rot = 0)"
   ]
  },
  {
   "cell_type": "markdown",
   "metadata": {},
   "source": [
    "This data shows that **Windgap** and **Squirrel Hill South** are the **safest neighborhoods**, while there were several neighborhoods that were tied for the least safe, in terms of police zones and traffic."
   ]
  },
  {
   "cell_type": "markdown",
   "metadata": {},
   "source": [
    "## Sustainability Metric"
   ]
  },
  {
   "cell_type": "markdown",
   "metadata": {},
   "source": [
    "### This metric shows the amount of green infrastructure, maintaining and progressing sustainability, projects in each neighborhood. This will show us which neighborhood contributes the most to keeping the environment healthy. "
   ]
  },
  {
   "cell_type": "code",
   "execution_count": 33,
   "metadata": {},
   "outputs": [
    {
     "data": {
      "text/html": [
       "<div>\n",
       "<style scoped>\n",
       "    .dataframe tbody tr th:only-of-type {\n",
       "        vertical-align: middle;\n",
       "    }\n",
       "\n",
       "    .dataframe tbody tr th {\n",
       "        vertical-align: top;\n",
       "    }\n",
       "\n",
       "    .dataframe thead th {\n",
       "        text-align: right;\n",
       "    }\n",
       "</style>\n",
       "<table border=\"1\" class=\"dataframe\">\n",
       "  <thead>\n",
       "    <tr style=\"text-align: right;\">\n",
       "      <th></th>\n",
       "      <th>the_geom</th>\n",
       "      <th>cartodb_id</th>\n",
       "      <th>objectid</th>\n",
       "      <th>project</th>\n",
       "      <th>phase</th>\n",
       "      <th>descriptio</th>\n",
       "    </tr>\n",
       "  </thead>\n",
       "  <tbody>\n",
       "    <tr>\n",
       "      <th>0</th>\n",
       "      <td>0101000020E6100000D58F8B9B2BFF53C046EC7B656C3A...</td>\n",
       "      <td>1</td>\n",
       "      <td>1</td>\n",
       "      <td>River Ave</td>\n",
       "      <td>Completed</td>\n",
       "      <td>Green Infrastructure</td>\n",
       "    </tr>\n",
       "    <tr>\n",
       "      <th>1</th>\n",
       "      <td>0101000020E610000078B0FC7B0A0354C0BF3F1A8A8F33...</td>\n",
       "      <td>2</td>\n",
       "      <td>2</td>\n",
       "      <td>Red Oak and Hayson</td>\n",
       "      <td>Completed</td>\n",
       "      <td>Green Infrastructure</td>\n",
       "    </tr>\n",
       "    <tr>\n",
       "      <th>2</th>\n",
       "      <td>0101000020E61000001820B8C082FD53C01AD80823B73A...</td>\n",
       "      <td>3</td>\n",
       "      <td>3</td>\n",
       "      <td>Melwood and Finland</td>\n",
       "      <td>In Construction</td>\n",
       "      <td>Green Infrastructure</td>\n",
       "    </tr>\n",
       "    <tr>\n",
       "      <th>3</th>\n",
       "      <td>0101000020E6100000A31E64FEBBFD53C047B5A9B87039...</td>\n",
       "      <td>4</td>\n",
       "      <td>4</td>\n",
       "      <td>Centre and Herron</td>\n",
       "      <td>Completed</td>\n",
       "      <td>Green Infrastructure</td>\n",
       "    </tr>\n",
       "    <tr>\n",
       "      <th>4</th>\n",
       "      <td>0101000020E6100000288D4A21FFFB53C068D7B4A0EF3B...</td>\n",
       "      <td>5</td>\n",
       "      <td>5</td>\n",
       "      <td>Hillcrest</td>\n",
       "      <td>Completed</td>\n",
       "      <td>Green Infrastructure</td>\n",
       "    </tr>\n",
       "  </tbody>\n",
       "</table>\n",
       "</div>"
      ],
      "text/plain": [
       "                                            the_geom  cartodb_id  objectid  \\\n",
       "0  0101000020E6100000D58F8B9B2BFF53C046EC7B656C3A...           1         1   \n",
       "1  0101000020E610000078B0FC7B0A0354C0BF3F1A8A8F33...           2         2   \n",
       "2  0101000020E61000001820B8C082FD53C01AD80823B73A...           3         3   \n",
       "3  0101000020E6100000A31E64FEBBFD53C047B5A9B87039...           4         4   \n",
       "4  0101000020E6100000288D4A21FFFB53C068D7B4A0EF3B...           5         5   \n",
       "\n",
       "               project            phase            descriptio  \n",
       "0            River Ave        Completed  Green Infrastructure  \n",
       "1   Red Oak and Hayson        Completed  Green Infrastructure  \n",
       "2  Melwood and Finland  In Construction  Green Infrastructure  \n",
       "3    Centre and Herron        Completed  Green Infrastructure  \n",
       "4            Hillcrest        Completed  Green Infrastructure  "
      ]
     },
     "execution_count": 33,
     "metadata": {},
     "output_type": "execute_result"
    }
   ],
   "source": [
    "import pandas as pd\n",
    "import math\n",
    "import numpy as np\n",
    "%matplotlib inline\n",
    "import matplotlib.pyplot as plt\n",
    "\n",
    "greeninfrastructure = pd.read_csv(\"GreenInfrastructure.csv\")\n",
    "greeninfrastructure.head()"
   ]
  },
  {
   "cell_type": "markdown",
   "metadata": {},
   "source": [
    "The above code cell is for importing libraries and reading the Green Infastructure csv file and printing out the table for it. It contains the infastructure plans in the Pittsburgh area, showing the index, the ID for the plan, the plan/project's name, whether it is completed or not, and the type of plan/project it is."
   ]
  },
  {
   "cell_type": "code",
   "execution_count": 34,
   "metadata": {},
   "outputs": [
    {
     "name": "stdout",
     "output_type": "stream",
     "text": [
      "Number of projects total in Pittsburgh Area: \n"
     ]
    },
    {
     "data": {
      "text/plain": [
       "project\n",
       "Centre and Herron                  1\n",
       "Chicken Hill                       1\n",
       "Four Mile Run                      1\n",
       "Hillcrest                          1\n",
       "Larimer Park                       1\n",
       "Lawn and Ophelia                   1\n",
       "Maryland                           1\n",
       "Maytide                            1\n",
       "Melwood and Finland                1\n",
       "Negley Run                         1\n",
       "Oakwood and Batavia                1\n",
       "PWSA Water Treatment Raingarden    1\n",
       "Panther Hollow Lake                1\n",
       "Poplar and Kearns                  1\n",
       "Red Oak and Hayson                 1\n",
       "River Ave                          1\n",
       "S 21st Street                      1\n",
       "Shamrock Way                       1\n",
       "St. Johns Site                     1\n",
       "Thomas and McPherson               1\n",
       "Volunteers Field                   1\n",
       "Wightman Park                      1\n",
       "Woodlawn Rd                        1\n",
       "Woods Run                          1\n",
       "Name: phase, dtype: int64"
      ]
     },
     "execution_count": 34,
     "metadata": {},
     "output_type": "execute_result"
    }
   ],
   "source": [
    "import pandas as pd\n",
    "\n",
    "greeninfrastructure = pd.read_csv('GreenInfrastructure.csv')\n",
    "greeninfrastructure.head()\n",
    "print(\"Number of projects total in Pittsburgh Area: \")\n",
    "num_projects = greeninfrastructure.groupby(\"project\")['phase'].count()\n",
    "\n",
    "num_projects"
   ]
  },
  {
   "cell_type": "markdown",
   "metadata": {},
   "source": [
    "This table shows the neighborhoods and how many projects are in each one. Which happens to show that every neighborhood has exactly 1 green infastructure project, proving that Pittsburgh has dedicated time and money towards battling climate change and promoting a clean environment. Unfortunately this doesn't prove much for our metric in determining the best neighborhood, so we'll continue to our next sustainability data set."
   ]
  },
  {
   "cell_type": "code",
   "execution_count": 37,
   "metadata": {},
   "outputs": [
    {
     "name": "stdout",
     "output_type": "stream",
     "text": [
      "Maximum number of projects: \n"
     ]
    },
    {
     "data": {
      "text/plain": [
       "1"
      ]
     },
     "execution_count": 37,
     "metadata": {},
     "output_type": "execute_result"
    }
   ],
   "source": [
    "num_projects = greeninfrastructure.groupby(\"project\")['phase'].count()\n",
    "max_value = num_projects.max()\n",
    "print(\"Maximum number of projects: \")\n",
    "max_value\n",
    "#finding the max"
   ]
  },
  {
   "cell_type": "markdown",
   "metadata": {},
   "source": [
    "What this tells us is that no neighborhood has more than 1 project done or currently being worked on in Pittsburgh."
   ]
  },
  {
   "cell_type": "code",
   "execution_count": 40,
   "metadata": {},
   "outputs": [
    {
     "data": {
      "text/html": [
       "<div>\n",
       "<style scoped>\n",
       "    .dataframe tbody tr th:only-of-type {\n",
       "        vertical-align: middle;\n",
       "    }\n",
       "\n",
       "    .dataframe tbody tr th {\n",
       "        vertical-align: top;\n",
       "    }\n",
       "\n",
       "    .dataframe thead th {\n",
       "        text-align: right;\n",
       "    }\n",
       "</style>\n",
       "<table border=\"1\" class=\"dataframe\">\n",
       "  <thead>\n",
       "    <tr style=\"text-align: right;\">\n",
       "      <th></th>\n",
       "      <th>STREET_ADDRESS</th>\n",
       "      <th>CITY_NAME</th>\n",
       "      <th>REPORTING_YEAR</th>\n",
       "      <th>CARCINOGEN</th>\n",
       "      <th>CLEAN_AIR</th>\n",
       "      <th>TOTAL_RELEASE</th>\n",
       "    </tr>\n",
       "  </thead>\n",
       "  <tbody>\n",
       "    <tr>\n",
       "      <th>0</th>\n",
       "      <td>400 STATE ST MS 71</td>\n",
       "      <td>CLAIRTON</td>\n",
       "      <td>1996</td>\n",
       "      <td>N</td>\n",
       "      <td>Y</td>\n",
       "      <td>NaN</td>\n",
       "    </tr>\n",
       "    <tr>\n",
       "      <th>1</th>\n",
       "      <td>151 COLFAX ST</td>\n",
       "      <td>SPRINGDALE</td>\n",
       "      <td>1990</td>\n",
       "      <td>Y</td>\n",
       "      <td>Y</td>\n",
       "      <td>0.0</td>\n",
       "    </tr>\n",
       "    <tr>\n",
       "      <th>2</th>\n",
       "      <td>2650 NEVILLE RD</td>\n",
       "      <td>PITTSBURGH</td>\n",
       "      <td>1999</td>\n",
       "      <td>N</td>\n",
       "      <td>Y</td>\n",
       "      <td>NaN</td>\n",
       "    </tr>\n",
       "    <tr>\n",
       "      <th>3</th>\n",
       "      <td>4100 GRAND AVE</td>\n",
       "      <td>PITTSBURGH</td>\n",
       "      <td>1987</td>\n",
       "      <td>N</td>\n",
       "      <td>Y</td>\n",
       "      <td>0.0</td>\n",
       "    </tr>\n",
       "    <tr>\n",
       "      <th>4</th>\n",
       "      <td>2895 GRAND AVE</td>\n",
       "      <td>PITTSBURGH</td>\n",
       "      <td>1989</td>\n",
       "      <td>N</td>\n",
       "      <td>N</td>\n",
       "      <td>NaN</td>\n",
       "    </tr>\n",
       "    <tr>\n",
       "      <th>...</th>\n",
       "      <td>...</td>\n",
       "      <td>...</td>\n",
       "      <td>...</td>\n",
       "      <td>...</td>\n",
       "      <td>...</td>\n",
       "      <td>...</td>\n",
       "    </tr>\n",
       "    <tr>\n",
       "      <th>14313</th>\n",
       "      <td>650 MANSFIELD AVE</td>\n",
       "      <td>PITTSBURGH</td>\n",
       "      <td>1987</td>\n",
       "      <td>N</td>\n",
       "      <td>N</td>\n",
       "      <td>NaN</td>\n",
       "    </tr>\n",
       "    <tr>\n",
       "      <th>14596</th>\n",
       "      <td>W NOBLESTOWN RD</td>\n",
       "      <td>CARNEGIE</td>\n",
       "      <td>1989</td>\n",
       "      <td>N</td>\n",
       "      <td>Y</td>\n",
       "      <td>NaN</td>\n",
       "    </tr>\n",
       "    <tr>\n",
       "      <th>14615</th>\n",
       "      <td>1105 PITTSBURGH ST</td>\n",
       "      <td>CHESWICK</td>\n",
       "      <td>1989</td>\n",
       "      <td>N</td>\n",
       "      <td>N</td>\n",
       "      <td>NaN</td>\n",
       "    </tr>\n",
       "    <tr>\n",
       "      <th>15113</th>\n",
       "      <td>700 E WATERFRONT DR</td>\n",
       "      <td>MUNHALL</td>\n",
       "      <td>2014</td>\n",
       "      <td>Y</td>\n",
       "      <td>Y</td>\n",
       "      <td>NaN</td>\n",
       "    </tr>\n",
       "    <tr>\n",
       "      <th>15162</th>\n",
       "      <td>NICHOL AVE</td>\n",
       "      <td>MC KEES ROCKS</td>\n",
       "      <td>1992</td>\n",
       "      <td>N</td>\n",
       "      <td>N</td>\n",
       "      <td>NaN</td>\n",
       "    </tr>\n",
       "  </tbody>\n",
       "</table>\n",
       "<p>920 rows × 6 columns</p>\n",
       "</div>"
      ],
      "text/plain": [
       "            STREET_ADDRESS      CITY_NAME  REPORTING_YEAR CARCINOGEN  \\\n",
       "0       400 STATE ST MS 71       CLAIRTON            1996          N   \n",
       "1            151 COLFAX ST     SPRINGDALE            1990          Y   \n",
       "2          2650 NEVILLE RD     PITTSBURGH            1999          N   \n",
       "3           4100 GRAND AVE     PITTSBURGH            1987          N   \n",
       "4           2895 GRAND AVE     PITTSBURGH            1989          N   \n",
       "...                    ...            ...             ...        ...   \n",
       "14313    650 MANSFIELD AVE     PITTSBURGH            1987          N   \n",
       "14596      W NOBLESTOWN RD       CARNEGIE            1989          N   \n",
       "14615   1105 PITTSBURGH ST       CHESWICK            1989          N   \n",
       "15113  700 E WATERFRONT DR        MUNHALL            2014          Y   \n",
       "15162           NICHOL AVE  MC KEES ROCKS            1992          N   \n",
       "\n",
       "      CLEAN_AIR  TOTAL_RELEASE  \n",
       "0             Y            NaN  \n",
       "1             Y            0.0  \n",
       "2             Y            NaN  \n",
       "3             Y            0.0  \n",
       "4             N            NaN  \n",
       "...         ...            ...  \n",
       "14313         N            NaN  \n",
       "14596         Y            NaN  \n",
       "14615         N            NaN  \n",
       "15113         Y            NaN  \n",
       "15162         N            NaN  \n",
       "\n",
       "[920 rows x 6 columns]"
      ]
     },
     "execution_count": 40,
     "metadata": {},
     "output_type": "execute_result"
    }
   ],
   "source": [
    "import sys\n",
    "import pandas as pd\n",
    "import math\n",
    "import numpy as np\n",
    "%matplotlib inline\n",
    "import matplotlib.pyplot as plt\n",
    "\n",
    "water_toxicity = pd.read_csv(\"ToxicWater.csv\")\n",
    "water_toxicity.groupby(\"STREET_ADDRESS\").head()"
   ]
  },
  {
   "cell_type": "markdown",
   "metadata": {},
   "source": [
    "This is our next sustainability data set, which shows a bit more contribution, or lack thereof, of green practices in Pittsburgh neighborhoods. It includes the street and city name, the last year they reported their water and air toxicity levels, whether there are carcinogens present in the air *( which cause cancer; is determined with N meaning No or Y meaning Yes )*, if the air is clean, and how much of a certain chemical is released into the air based on building, car, person, etc. emission. \n",
    "\n",
    "We import the libraries as we have done for the past data sets, read the csv file \"ToxicWater.csv\", and print out the table of all of the values, that goes all the way up to an index of 15,162, showing us the data for every street in Pittsburgh."
   ]
  },
  {
   "cell_type": "code",
   "execution_count": 20,
   "metadata": {},
   "outputs": [
    {
     "data": {
      "text/plain": [
       "8877     2020\n",
       "13753    2020\n",
       "1194     2020\n",
       "14104    2020\n",
       "11252    2020\n",
       "         ... \n",
       "396      2020\n",
       "13915    2020\n",
       "10992    2020\n",
       "56       2020\n",
       "8894     2019\n",
       "Name: REPORTING_YEAR, Length: 278, dtype: int64"
      ]
     },
     "execution_count": 20,
     "metadata": {},
     "output_type": "execute_result"
    }
   ],
   "source": [
    "import sys\n",
    "import pandas as pd\n",
    "import math\n",
    "import numpy as np\n",
    "%matplotlib inline\n",
    "import matplotlib.pyplot as plt\n",
    "\n",
    "water_toxicity = pd.read_csv(\"ToxicWater.csv\")\n",
    "water_report = water_toxicity.loc[:, \"REPORTING_YEAR\"].sort_values(ascending=False)\n",
    "water_report.head(278)"
   ]
  },
  {
   "cell_type": "markdown",
   "metadata": {},
   "source": [
    "This table shows us that there are 277 streets that have reported their toxicity levels since 2020. We went through the table and found which city/town kept coming up in correspondence to the indexes given above. With the most amount of streets, that also have no carcinogens and have clean air, belonging to Clairton."
   ]
  },
  {
   "cell_type": "code",
   "execution_count": 33,
   "metadata": {},
   "outputs": [
    {
     "data": {
      "text/plain": [
       "7610     1987\n",
       "2459     1987\n",
       "10218    1987\n",
       "5399     1987\n",
       "11619    1987\n",
       "         ... \n",
       "7        1987\n",
       "335      1987\n",
       "336      1987\n",
       "6551     1987\n",
       "9180     1988\n",
       "Name: REPORTING_YEAR, Length: 743, dtype: int64"
      ]
     },
     "execution_count": 33,
     "metadata": {},
     "output_type": "execute_result"
    }
   ],
   "source": [
    "long_report = water_toxicity.loc[:, \"REPORTING_YEAR\"].sort_values(ascending=True)\n",
    "long_report.head(743)"
   ]
  },
  {
   "cell_type": "markdown",
   "metadata": {},
   "source": [
    "This shows us that 742 streets have not reported their water and air toxicity levels since 1987. The most frequently appearing city/town that we went back into the excel sheet to see, that has carinogens and/or does not have clean air, belonging to Springdale and Sewickley."
   ]
  },
  {
   "cell_type": "code",
   "execution_count": 20,
   "metadata": {},
   "outputs": [
    {
     "data": {
      "text/plain": [
       "<matplotlib.axes._subplots.AxesSubplot at 0x7fb483d30fa0>"
      ]
     },
     "execution_count": 20,
     "metadata": {},
     "output_type": "execute_result"
    },
    {
     "data": {
      "image/png": "[encoded data removed]",
      "text/plain": [
       "<Figure size 432x288 with 1 Axes>"
      ]
     },
     "metadata": {
      "needs_background": "light"
     },
     "output_type": "display_data"
    }
   ],
   "source": [
    "import pandas as pd\n",
    "import numpy as np\n",
    "from math import cos,sin,pi\n",
    "import matplotlib as mpl\n",
    "import matplotlib.pyplot as plt\n",
    "\n",
    "data = pd.read_csv(\"facilities.csv\")\n",
    "data.plot(kind='scatter', x='PREF_LONGITUDE', y='PREF_LATITUDE')"
   ]
  },
  {
   "cell_type": "markdown",
   "metadata": {},
   "source": [
    "This is a graph of the latitude (N) and longitude (W) of air and water treatment facilities in Pittsburgh."
   ]
  },
  {
   "cell_type": "code",
   "execution_count": 11,
   "metadata": {},
   "outputs": [
    {
     "data": {
      "text/plain": [
       "STREET_ADDRESS\n",
       "400 STATE ST MS 71    1128\n",
       "200 NEVILLE RD        1014\n",
       "125 COLFAX ST          829\n",
       "300 N STATE ST         612\n",
       "100 RIVER RD           521\n",
       "                      ... \n",
       "2475 DEFENSE AVE         1\n",
       "1000 AIR BRAKE AVE       1\n",
       "2601 PREBLE AVE          1\n",
       "3800 NEVILLE RD          1\n",
       "1105 PITTSBURGH ST       1\n",
       "Name: CARCINOGEN, Length: 199, dtype: int64"
      ]
     },
     "execution_count": 11,
     "metadata": {},
     "output_type": "execute_result"
    }
   ],
   "source": [
    "import sys\n",
    "import pandas as pd\n",
    "import math\n",
    "import numpy as np\n",
    "%matplotlib inline\n",
    "import matplotlib.pyplot as plt\n",
    "\n",
    "water_toxicity = pd.read_csv(\"ToxicWater.csv\")\n",
    "data = water_toxicity.groupby(\"STREET_ADDRESS\")['CARCINOGEN'].count()\n",
    "datasort = data.loc[: \"REPORTING_YEAR\"].sort_values(ascending=False)\n",
    "datasort.head(200)"
   ]
  },
  {
   "cell_type": "code",
   "execution_count": 12,
   "metadata": {},
   "outputs": [
    {
     "data": {
      "text/plain": [
       "<matplotlib.axes._subplots.AxesSubplot at 0x7fb4864f84c0>"
      ]
     },
     "execution_count": 12,
     "metadata": {},
     "output_type": "execute_result"
    },
    {
     "data": {
      "image/png": "[encoded data removed]",
      "text/plain": [
       "<Figure size 432x288 with 1 Axes>"
      ]
     },
     "metadata": {
      "needs_background": "light"
     },
     "output_type": "display_data"
    }
   ],
   "source": [
    "import sys\n",
    "import pandas as pd\n",
    "import math\n",
    "import numpy as np\n",
    "%matplotlib inline\n",
    "import matplotlib.pyplot as plt\n",
    "\n",
    "water_toxicity = pd.read_csv(\"ToxicWater.csv\")\n",
    "data = water_toxicity.groupby(\"STREET_ADDRESS\")['CARCINOGEN'].count()\n",
    "datasort = data.loc[: \"REPORTING_YEAR\"].sort_values(ascending=False)\n",
    "datasort[:10].plot.bar()"
   ]
  },
  {
   "cell_type": "markdown",
   "metadata": {},
   "source": [
    "This graph shows the 10 streets with the most amount of carcinogens, or unhealthy chemicals, in the air. The most contaminated being 400 State St. MS 71, which is located in Clairton, but not apart of a neighborhood. The first street in this graph to belong to a Pittsburgh neighborhood is 200 Neville Rd located in the Brighton Heights neighborhood."
   ]
  },
  {
   "cell_type": "code",
   "execution_count": 18,
   "metadata": {},
   "outputs": [
    {
     "data": {
      "text/plain": [
       "<matplotlib.axes._subplots.AxesSubplot at 0x7fb483bd7d60>"
      ]
     },
     "execution_count": 18,
     "metadata": {},
     "output_type": "execute_result"
    },
    {
     "data": {
      "image/png": "[encoded data removed]",
      "text/plain": [
       "<Figure size 432x288 with 1 Axes>"
      ]
     },
     "metadata": {
      "needs_background": "light"
     },
     "output_type": "display_data"
    }
   ],
   "source": [
    "import sys\n",
    "import pandas as pd\n",
    "import math\n",
    "import numpy as np\n",
    "%matplotlib inline\n",
    "import matplotlib.pyplot as plt\n",
    "\n",
    "water_toxicity = pd.read_csv(\"ToxicWater.csv\")\n",
    "data = water_toxicity.groupby(\"STREET_ADDRESS\")['CARCINOGEN'].count()\n",
    "datasort = data.loc[: \"REPORTING_YEAR\"].sort_values(ascending=True)\n",
    "datasort[:24].plot.bar()"
   ]
  },
  {
   "cell_type": "markdown",
   "metadata": {},
   "source": [
    "This is a graph of the streets with the least amount of carcinogens *( 1 meaning none, and it's just clean air )*. Having 16 streets showing no presence of carcinogens, but the only ones belonging to a neighborhood are 218 N Braddock Ave (Squirrel Hill North) and 500 Dargan St (North Oakland). "
   ]
  },
  {
   "cell_type": "markdown",
   "metadata": {},
   "source": [
    "The first sustainability data set shows that majority of the neighborhoods in Pittsburgh are fairly sustainable and there is not one in particular that falls significantly behind or ahead.\n",
    "\n",
    "The second sustainability data set shows that the streets with the most recent water toxicity report, as well as no present carcinogens, are 218 N Braddock and 500 Dargan St, in 2020, and the one with the least recent water toxicity report is 200 Neville Rd. Showing that **Squirrel Hill (+1)** and **North Oakland** are the healthiest neighborhood in terms of clean water, and **Brighton Heights (-1)** is the least healthy neighborhood in terms of water toxcitity and carcinogen presence. Southside also contains no carcinogens, and is reported to have clean water."
   ]
  },
  {
   "cell_type": "markdown",
   "metadata": {},
   "source": [
    "## Conclusion"
   ]
  },
  {
   "cell_type": "markdown",
   "metadata": {},
   "source": [
    "Considering all of our data, what it represents, and what it shows us, we have come to realize that the best neighborhood in Pittsburgh is **Squirrel Hill South** because of its stellar education system, and committment to safety as well as the environment. Through that process, we have also come to realize that the worst neighborhood in Pittsburgh is **Monroeville** because its lack in populated schools, thus resulting in below average funding, while also having carcinogens in the air, unclean water, and a past due regulation for sustainability and cleanliness."
   ]
  },
  {
   "cell_type": "markdown",
   "metadata": {},
   "source": [
    "**Best Neighborhoods**\n",
    "- Squirrel Hill South: + 2 points\n",
    "- Southside: + 1 point\n",
    "- Windgap: + 1 point\n",
    "- Carrick: + 1 point\n",
    "- North Oakland\n",
    "\n",
    "**Worst Neighborhoods**\n",
    "- Brighton Heights: - 2 points\n",
    "- Monroeville: - 1 point\n",
    "- Perry North: - 1 point\n",
    "- Summer Hill: - 1 point"
   ]
  },
  {
   "cell_type": "markdown",
   "metadata": {},
   "source": [
    "**Personal Conclusions**\n",
    "\n",
    "Sadhana: My opinion on the best neighborhood in Pittsburgh would probably be either Windgap or Squirrel Hill South, just because of what I've seen going through datasets and how safe they both are.\n",
    "\n",
    "Olivia: My personal favorite neighborhood is Squirrel Hill North. I've passed it a few times on bus rides, and it just seems like a really quiet place to live, and it's not far from Pitt or the Carnegie campus. I'm not from Pittsburgh, so I was not sure what to think of the neighborhoods around here before I started this project."
   ]
  }
 ],
 "metadata": {
  "kernelspec": {
   "display_name": "Python 3",
   "language": "python",
   "name": "python3"
  },
  "language_info": {
   "codemirror_mode": {
    "name": "ipython",
    "version": 3
   },
   "file_extension": ".py",
   "mimetype": "text/x-python",
   "name": "python",
   "nbconvert_exporter": "python",
   "pygments_lexer": "ipython3",
   "version": "3.8.3"
  }
 },
 "nbformat": 4,
 "nbformat_minor": 4
}
